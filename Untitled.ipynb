{
 "cells": [
  {
   "cell_type": "code",
   "execution_count": 14,
   "metadata": {},
   "outputs": [
    {
     "name": "stdout",
     "output_type": "stream",
     "text": [
      "Collecting filetype\n",
      "  Downloading https://files.pythonhosted.org/packages/b4/6b/7bc015da1a576ac037582ae0c5acb675371de9e017e860931e97a428ee31/filetype-1.0.7-py2.py3-none-any.whl\n",
      "Installing collected packages: filetype\n",
      "Successfully installed filetype-1.0.7\n",
      "Note: you may need to restart the kernel to use updated packages.\n"
     ]
    }
   ],
   "source": [
    "pip install filetype"
   ]
  },
  {
   "cell_type": "code",
   "execution_count": 3,
   "metadata": {},
   "outputs": [
    {
     "name": "stdout",
     "output_type": "stream",
     "text": [
      "hello\n",
      "None\n"
     ]
    }
   ],
   "source": [
    "def sample():\n",
    "    print('hello')\n",
    "\n",
    "print(sample())"
   ]
  },
  {
   "cell_type": "code",
   "execution_count": 15,
   "metadata": {},
   "outputs": [],
   "source": [
    "\n",
    "import concurrent.futures\n",
    "import time\n",
    "import filetype\n",
    "\n"
   ]
  },
  {
   "cell_type": "code",
   "execution_count": 33,
   "metadata": {},
   "outputs": [],
   "source": [
    "from PIL import Image,ImageFilter\n",
    "import os, stat"
   ]
  },
  {
   "cell_type": "code",
   "execution_count": 80,
   "metadata": {},
   "outputs": [
    {
     "name": "stdout",
     "output_type": "stream",
     "text": [
      "got results ['C:\\\\Puneet\\\\IBM\\\\Puneet\\\\School\\\\', 4]\n",
      "got results ['C:\\\\Puneet\\\\IBM\\\\Puneet\\\\School\\\\Academics', 0]\n",
      "got results ['C:\\\\Puneet\\\\IBM\\\\Puneet\\\\School\\\\Academics\\\\Monthly Planner', 0]\n",
      "got results ['C:\\\\Puneet\\\\IBM\\\\Puneet\\\\School\\\\Academics\\\\Monthly Planner\\\\December 2019', 0]\n",
      "got results ['C:\\\\Puneet\\\\IBM\\\\Puneet\\\\School\\\\Activities', 0]\n",
      "got results ['C:\\\\Puneet\\\\IBM\\\\Puneet\\\\School\\\\Activities\\\\7Dec2019Weekendfun', 0]\n",
      "got results ['C:\\\\Puneet\\\\IBM\\\\Puneet\\\\School\\\\Activities\\\\7Dec2019Weekendfun\\\\7 dec-20191209T040355Z-001', 0]\n",
      "got results ['C:\\\\Puneet\\\\IBM\\\\Puneet\\\\School\\\\Activities\\\\7Dec2019Weekendfun\\\\7 dec-20191209T040355Z-001\\\\7 dec', 126]\n",
      "got results ['C:\\\\Puneet\\\\IBM\\\\Puneet\\\\School\\\\Activities\\\\7Dec2019Weekendfun\\\\Selected pics', 45]\n",
      "got results ['C:\\\\Puneet\\\\IBM\\\\Puneet\\\\School\\\\Activities\\\\ChristmasPOEvent2019', 30]\n",
      "got results ['C:\\\\Puneet\\\\IBM\\\\Puneet\\\\School\\\\Activities\\\\DayCare', 1]\n",
      "got results ['C:\\\\Puneet\\\\IBM\\\\Puneet\\\\School\\\\Activities\\\\DigitalLearningFeb2020', 1]\n",
      "got results ['C:\\\\Puneet\\\\IBM\\\\Puneet\\\\School\\\\Activities\\\\New folder', 0]\n",
      "got results ['C:\\\\Puneet\\\\IBM\\\\Puneet\\\\School\\\\Activities\\\\Republic day 2020', 1]\n",
      "got results ['C:\\\\Puneet\\\\IBM\\\\Puneet\\\\School\\\\Activities\\\\SarswatiPuja2020', 3]\n",
      "got results ['C:\\\\Puneet\\\\IBM\\\\Puneet\\\\School\\\\Activities\\\\Valentines 2020', 6]\n",
      "got results ['C:\\\\Puneet\\\\IBM\\\\Puneet\\\\School\\\\Creatives', 2]\n",
      "got results ['C:\\\\Puneet\\\\IBM\\\\Puneet\\\\School\\\\Creatives\\\\RWAs', 0]\n",
      "got results ['C:\\\\Puneet\\\\IBM\\\\Puneet\\\\School\\\\Creatives\\\\RWAs\\\\3X2 �Direction boards 70 Noida�', 0]\n",
      "got results ['C:\\\\Puneet\\\\IBM\\\\Puneet\\\\School\\\\Creatives\\\\RWAs\\\\3X2 �Direction boards 70 Noida�\\\\3X2 %Direction boards%', 2]\n",
      "got results ['C:\\\\Puneet\\\\IBM\\\\Puneet\\\\School\\\\Creatives\\\\RWAs\\\\RWA gate  �Sector 70 Nodia�', 0]\n",
      "got results ['C:\\\\Puneet\\\\IBM\\\\Puneet\\\\School\\\\Creatives\\\\RWAs\\\\RWA gate  �Sector 70 Nodia�\\\\RWA gate  %Sector 70 Nodia%', 4]\n",
      "got results ['C:\\\\Puneet\\\\IBM\\\\Puneet\\\\School\\\\Daily promotions msg', 2]\n",
      "got results ['C:\\\\Puneet\\\\IBM\\\\Puneet\\\\School\\\\Daycare', 0]\n",
      "got results ['C:\\\\Puneet\\\\IBM\\\\Puneet\\\\School\\\\February2020', 0]\n",
      "got results ['C:\\\\Puneet\\\\IBM\\\\Puneet\\\\School\\\\Inaugration of Makoons', 0]\n",
      "got results ['C:\\\\Puneet\\\\IBM\\\\Puneet\\\\School\\\\Inaugration of Makoons\\\\Inaugration of Makoons', 84]\n",
      "got results ['C:\\\\Puneet\\\\IBM\\\\Puneet\\\\School\\\\Inaugration of Makoons-2', 0]\n",
      "got results ['C:\\\\Puneet\\\\IBM\\\\Puneet\\\\School\\\\Inaugration of Makoons-2\\\\Inaugration of Makoons', 126]\n",
      "got results ['C:\\\\Puneet\\\\IBM\\\\Puneet\\\\School\\\\Inaugration of Makoons-20191118T071054Z-001', 0]\n",
      "got results ['C:\\\\Puneet\\\\IBM\\\\Puneet\\\\School\\\\Inaugration of Makoons-20191118T071054Z-001\\\\Inaugration of Makoons', 124]\n",
      "got results ['C:\\\\Puneet\\\\IBM\\\\Puneet\\\\School\\\\Inaugration of Makoons-3', 0]\n",
      "got results ['C:\\\\Puneet\\\\IBM\\\\Puneet\\\\School\\\\Inaugration of Makoons-3\\\\Inaugration of Makoons', 122]\n",
      "got results ['C:\\\\Puneet\\\\IBM\\\\Puneet\\\\School\\\\Inaugration of Makoons-4', 0]\n",
      "got results ['C:\\\\Puneet\\\\IBM\\\\Puneet\\\\School\\\\Inaugration of Makoons-4\\\\Inaugration of Makoons', 123]\n",
      "got results ['C:\\\\Puneet\\\\IBM\\\\Puneet\\\\School\\\\Inauguration selected pics', 118]\n",
      "got results ['C:\\\\Puneet\\\\IBM\\\\Puneet\\\\School\\\\January2020', 0]\n",
      "got results ['C:\\\\Puneet\\\\IBM\\\\Puneet\\\\School\\\\January2020\\\\Pics', 7]\n",
      "got results ['C:\\\\Puneet\\\\IBM\\\\Puneet\\\\School\\\\Monthly planner', 0]\n",
      "got results ['C:\\\\Puneet\\\\IBM\\\\Puneet\\\\School\\\\Monthly planner\\\\January 2020', 0]\n",
      "got results ['C:\\\\Puneet\\\\IBM\\\\Puneet\\\\School\\\\New folder', 0]\n",
      "got results ['C:\\\\Puneet\\\\IBM\\\\Puneet\\\\School\\\\onesidevision', 0]\n",
      "got results ['C:\\\\Puneet\\\\IBM\\\\Puneet\\\\School\\\\Operations', 0]\n",
      "got results ['C:\\\\Puneet\\\\IBM\\\\Puneet\\\\School\\\\sale pics', 5]\n",
      "got results ['C:\\\\Puneet\\\\IBM\\\\Puneet\\\\School\\\\wetransfer-2b4804', 0]\n",
      "got results ['C:\\\\Puneet\\\\IBM\\\\Puneet\\\\School\\\\wetransfer-644593', 0]\n",
      "got results ['C:\\\\Puneet\\\\IBM\\\\Puneet\\\\School\\\\wetransfer-8753b5', 0]\n",
      "got results ['C:\\\\Puneet\\\\IBM\\\\Puneet\\\\School\\\\wetransfer-cfdd32', 0]\n",
      "got results ['C:\\\\Puneet\\\\IBM\\\\Puneet\\\\School\\\\Winter Camp December 2019', 1]\n",
      "total time taken 0.05\n"
     ]
    }
   ],
   "source": [
    "def findfiles(direc):\n",
    "    count = 0\n",
    "    #os.chmod(direc,stat.S_IROTH)\n",
    "    #os.chdir(direc)\n",
    "    for f in os.listdir(direc):\n",
    "        if f.lower().endswith(('.png', '.jpg', '.jpeg', '.tiff', '.bmp', '.gif','.cr2')):\n",
    "            count = count + 1\n",
    "    return [direc,count]\n",
    "\n",
    "def main():\n",
    "    t1 = time.perf_counter()\n",
    "    finallist = []\n",
    "    actual_dir = []\n",
    "    with concurrent.futures.ThreadPoolExecutor() as executor:    \n",
    "\n",
    "        for dirpath, dirnames, filenames in os.walk('C:\\\\Puneet\\\\IBM\\\\Puneet\\\\School\\\\'):\n",
    "            actual_dir.append(dirpath)\n",
    "        results = executor.map(findfiles, actual_dir)\n",
    "        for f in results:\n",
    "            print(f'got results {f}')\n",
    "        #    if f.result()[1] > 0:\n",
    "        #        finallist.append(f.result())\n",
    "        #        print(\"Count of images is {} in director {}\".format(f.result()[1],f.result()[0]))\n",
    "\n",
    "\n",
    "\n",
    "\n",
    "    t2 = time.perf_counter()\n",
    "\n",
    "    print(f'total time taken {round(t2-t1,2)}')\n",
    "if __name__ == '__main__':\n",
    "    main()\n",
    "                                          \n",
    "    "
   ]
  },
  {
   "cell_type": "code",
   "execution_count": 22,
   "metadata": {},
   "outputs": [
    {
     "name": "stdout",
     "output_type": "stream",
     "text": [
      "barricade.jpg\n",
      "jumping.jpg\n",
      "toys1.jpg\n",
      "toys2.jpg\n",
      "toys3.jpg\n",
      "5\n"
     ]
    }
   ],
   "source": [
    " count = 0\n",
    "for f in os.listdir('C:\\\\Puneet\\\\IBM\\\\Puneet\\\\School\\\\sale pics'):\n",
    "    print(f)\n",
    "    os.chdir('C:\\\\Puneet\\\\IBM\\\\Puneet\\\\School\\\\sale pics')\n",
    "    if filetype.is_image(f):\n",
    "        count = count + 1\n",
    "\n",
    "print(count)"
   ]
  },
  {
   "cell_type": "code",
   "execution_count": 46,
   "metadata": {},
   "outputs": [
    {
     "name": "stdout",
     "output_type": "stream",
     "text": [
      "3\n"
     ]
    }
   ],
   "source": [
    "a = 1 \n",
    "b = 2\n",
    "x = 3 if a < b else 2\n",
    "print(x)"
   ]
  },
  {
   "cell_type": "code",
   "execution_count": 51,
   "metadata": {},
   "outputs": [
    {
     "name": "stdout",
     "output_type": "stream",
     "text": [
      "Count of images is 1 in director C:\\Puneet\\IBM\\Puneet\\School\\Winter Camp December 2019\n",
      "total time taken 0.06\n"
     ]
    }
   ],
   "source": [
    "def findfiles(direc):\n",
    "    count = 0\n",
    "    os.chmod(direc,stat.S_IROTH)\n",
    "    #os.chdir(direc)\n",
    "    for f in os.listdir(direc):\n",
    "        if os.path.isfile(f):\n",
    "            if filetype.is_image(os.path.join(direc,f)):\n",
    "                count = count + 1\n",
    "    return [direc,count]\n",
    "\n",
    "t1 = time.perf_counter()\n",
    "finallist = []\n",
    "with concurrent.futures.ThreadPoolExecutor() as executor:    \n",
    "    results = [executor.submit(findfiles,dirpath) for dirpath, dirnames, filenames in os.walk('C:\\\\Puneet\\\\IBM\\\\Puneet\\\\School\\\\')]\n",
    "    for f in concurrent.futures.as_completed(results):\n",
    "        if f.result()[1] > 0:\n",
    "            finallist.append(f.result())\n",
    "            print(\"Count of images is {} in director {}\".format(f.result()[1],f.result()[0]))\n",
    "        \n",
    "    \n",
    "                                                                                        \n",
    "\n",
    "t2 = time.perf_counter()\n",
    "\n",
    "print(f'total time taken {round(t2-t1,2)}')\n",
    "                                          \n",
    "    "
   ]
  },
  {
   "cell_type": "code",
   "execution_count": 67,
   "metadata": {},
   "outputs": [
    {
     "ename": "BrokenProcessPool",
     "evalue": "A process in the process pool was terminated abruptly while the future was running or pending.",
     "output_type": "error",
     "traceback": [
      "\u001b[1;31m---------------------------------------------------------------------------\u001b[0m",
      "\u001b[1;31mBrokenProcessPool\u001b[0m                         Traceback (most recent call last)",
      "\u001b[1;32m<ipython-input-67-12c8697785aa>\u001b[0m in \u001b[0;36m<module>\u001b[1;34m\u001b[0m\n\u001b[0;32m     23\u001b[0m     \u001b[1;32mfor\u001b[0m \u001b[0mf\u001b[0m \u001b[1;32min\u001b[0m \u001b[0mconcurrent\u001b[0m\u001b[1;33m.\u001b[0m\u001b[0mfutures\u001b[0m\u001b[1;33m.\u001b[0m\u001b[0mas_completed\u001b[0m\u001b[1;33m(\u001b[0m\u001b[0mresults\u001b[0m\u001b[1;33m)\u001b[0m\u001b[1;33m:\u001b[0m\u001b[1;33m\u001b[0m\u001b[1;33m\u001b[0m\u001b[0m\n\u001b[0;32m     24\u001b[0m         \u001b[1;31m#print(f.result)\u001b[0m\u001b[1;33m\u001b[0m\u001b[1;33m\u001b[0m\u001b[1;33m\u001b[0m\u001b[0m\n\u001b[1;32m---> 25\u001b[1;33m         \u001b[1;32mif\u001b[0m \u001b[0mf\u001b[0m\u001b[1;33m.\u001b[0m\u001b[0mresult\u001b[0m\u001b[1;33m(\u001b[0m\u001b[1;33m)\u001b[0m\u001b[1;33m[\u001b[0m\u001b[1;36m1\u001b[0m\u001b[1;33m]\u001b[0m \u001b[1;33m>\u001b[0m \u001b[1;36m0\u001b[0m\u001b[1;33m:\u001b[0m\u001b[1;33m\u001b[0m\u001b[1;33m\u001b[0m\u001b[0m\n\u001b[0m\u001b[0;32m     26\u001b[0m             \u001b[0mfinallist\u001b[0m\u001b[1;33m.\u001b[0m\u001b[0mappend\u001b[0m\u001b[1;33m(\u001b[0m\u001b[0mf\u001b[0m\u001b[1;33m.\u001b[0m\u001b[0mresult\u001b[0m\u001b[1;33m(\u001b[0m\u001b[1;33m)\u001b[0m\u001b[1;33m)\u001b[0m\u001b[1;33m\u001b[0m\u001b[1;33m\u001b[0m\u001b[0m\n\u001b[0;32m     27\u001b[0m             \u001b[0mprint\u001b[0m\u001b[1;33m(\u001b[0m\u001b[1;34m\"Count of images is {} in director {}\"\u001b[0m\u001b[1;33m.\u001b[0m\u001b[0mformat\u001b[0m\u001b[1;33m(\u001b[0m\u001b[0mf\u001b[0m\u001b[1;33m.\u001b[0m\u001b[0mresult\u001b[0m\u001b[1;33m(\u001b[0m\u001b[1;33m)\u001b[0m\u001b[1;33m[\u001b[0m\u001b[1;36m1\u001b[0m\u001b[1;33m]\u001b[0m\u001b[1;33m,\u001b[0m\u001b[0mf\u001b[0m\u001b[1;33m.\u001b[0m\u001b[0mresult\u001b[0m\u001b[1;33m(\u001b[0m\u001b[1;33m)\u001b[0m\u001b[1;33m[\u001b[0m\u001b[1;36m0\u001b[0m\u001b[1;33m]\u001b[0m\u001b[1;33m)\u001b[0m\u001b[1;33m)\u001b[0m\u001b[1;33m\u001b[0m\u001b[1;33m\u001b[0m\u001b[0m\n",
      "\u001b[1;32m~\\Anaconda3\\lib\\concurrent\\futures\\_base.py\u001b[0m in \u001b[0;36mresult\u001b[1;34m(self, timeout)\u001b[0m\n\u001b[0;32m    426\u001b[0m                 \u001b[1;32mraise\u001b[0m \u001b[0mCancelledError\u001b[0m\u001b[1;33m(\u001b[0m\u001b[1;33m)\u001b[0m\u001b[1;33m\u001b[0m\u001b[1;33m\u001b[0m\u001b[0m\n\u001b[0;32m    427\u001b[0m             \u001b[1;32melif\u001b[0m \u001b[0mself\u001b[0m\u001b[1;33m.\u001b[0m\u001b[0m_state\u001b[0m \u001b[1;33m==\u001b[0m \u001b[0mFINISHED\u001b[0m\u001b[1;33m:\u001b[0m\u001b[1;33m\u001b[0m\u001b[1;33m\u001b[0m\u001b[0m\n\u001b[1;32m--> 428\u001b[1;33m                 \u001b[1;32mreturn\u001b[0m \u001b[0mself\u001b[0m\u001b[1;33m.\u001b[0m\u001b[0m__get_result\u001b[0m\u001b[1;33m(\u001b[0m\u001b[1;33m)\u001b[0m\u001b[1;33m\u001b[0m\u001b[1;33m\u001b[0m\u001b[0m\n\u001b[0m\u001b[0;32m    429\u001b[0m \u001b[1;33m\u001b[0m\u001b[0m\n\u001b[0;32m    430\u001b[0m             \u001b[0mself\u001b[0m\u001b[1;33m.\u001b[0m\u001b[0m_condition\u001b[0m\u001b[1;33m.\u001b[0m\u001b[0mwait\u001b[0m\u001b[1;33m(\u001b[0m\u001b[0mtimeout\u001b[0m\u001b[1;33m)\u001b[0m\u001b[1;33m\u001b[0m\u001b[1;33m\u001b[0m\u001b[0m\n",
      "\u001b[1;32m~\\Anaconda3\\lib\\concurrent\\futures\\_base.py\u001b[0m in \u001b[0;36m__get_result\u001b[1;34m(self)\u001b[0m\n\u001b[0;32m    382\u001b[0m     \u001b[1;32mdef\u001b[0m \u001b[0m__get_result\u001b[0m\u001b[1;33m(\u001b[0m\u001b[0mself\u001b[0m\u001b[1;33m)\u001b[0m\u001b[1;33m:\u001b[0m\u001b[1;33m\u001b[0m\u001b[1;33m\u001b[0m\u001b[0m\n\u001b[0;32m    383\u001b[0m         \u001b[1;32mif\u001b[0m \u001b[0mself\u001b[0m\u001b[1;33m.\u001b[0m\u001b[0m_exception\u001b[0m\u001b[1;33m:\u001b[0m\u001b[1;33m\u001b[0m\u001b[1;33m\u001b[0m\u001b[0m\n\u001b[1;32m--> 384\u001b[1;33m             \u001b[1;32mraise\u001b[0m \u001b[0mself\u001b[0m\u001b[1;33m.\u001b[0m\u001b[0m_exception\u001b[0m\u001b[1;33m\u001b[0m\u001b[1;33m\u001b[0m\u001b[0m\n\u001b[0m\u001b[0;32m    385\u001b[0m         \u001b[1;32melse\u001b[0m\u001b[1;33m:\u001b[0m\u001b[1;33m\u001b[0m\u001b[1;33m\u001b[0m\u001b[0m\n\u001b[0;32m    386\u001b[0m             \u001b[1;32mreturn\u001b[0m \u001b[0mself\u001b[0m\u001b[1;33m.\u001b[0m\u001b[0m_result\u001b[0m\u001b[1;33m\u001b[0m\u001b[1;33m\u001b[0m\u001b[0m\n",
      "\u001b[1;31mBrokenProcessPool\u001b[0m: A process in the process pool was terminated abruptly while the future was running or pending."
     ]
    }
   ],
   "source": [
    "\n",
    "def findfiles(direc):\n",
    "    count = 0\n",
    "    os.chmod(direc,stat.S_IROTH)\n",
    "    #os.chdir(direc)\n",
    "    for f in os.listdir(direc):\n",
    "        #print(f'list name is {f}')\n",
    "        if os.path.isfile(os.path.join(direc,f)):\n",
    "            #print(os.path.join(direc,f))\n",
    "            if filetype.is_image(os.path.join(direc,f)):\n",
    "                count = count + 1\n",
    "               \n",
    "    return [direc,count]\n",
    "\n",
    "t1 = time.perf_counter()\n",
    "finallist = []\n",
    "results = []\n",
    "with concurrent.futures.ThreadPoolExecutor() as executor:    \n",
    "    for dirpath, dirnames, filenames in os.walk('C:\\\\Puneet\\\\IBM\\\\Puneet\\\\School\\\\'):\n",
    "        #print(f'directory name {dirpath}')\n",
    "        r = executor.submit(findfiles,dirpath)\n",
    "        #print(r)\n",
    "        results.append(r)\n",
    "    for f in concurrent.futures.as_completed(results):\n",
    "        #print(f.result)\n",
    "        if f.result()[1] > 0:\n",
    "            finallist.append(f.result())\n",
    "            print(\"Count of images is {} in director {}\".format(f.result()[1],f.result()[0]))\n",
    "        \n",
    "    \n",
    "                                                                                        \n",
    "\n",
    "t2 = time.perf_counter()\n",
    "\n",
    "print(f'total time taken {round(t2-t1,2)}')\n",
    "#print (f'total files {totalcount}')\n",
    "                                          "
   ]
  },
  {
   "cell_type": "code",
   "execution_count": null,
   "metadata": {},
   "outputs": [],
   "source": []
  }
 ],
 "metadata": {
  "kernelspec": {
   "display_name": "Python 3",
   "language": "python",
   "name": "python3"
  },
  "language_info": {
   "codemirror_mode": {
    "name": "ipython",
    "version": 3
   },
   "file_extension": ".py",
   "mimetype": "text/x-python",
   "name": "python",
   "nbconvert_exporter": "python",
   "pygments_lexer": "ipython3",
   "version": "3.7.4"
  }
 },
 "nbformat": 4,
 "nbformat_minor": 2
}
